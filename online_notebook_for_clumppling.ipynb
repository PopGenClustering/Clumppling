{
  "cells": [
    {
      "cell_type": "markdown",
      "metadata": {
        "id": "view-in-github",
        "colab_type": "text"
      },
      "source": [
        "<a href=\"https://colab.research.google.com/github/PopGenClustering/Clumppling/blob/master/online_notebook_for_clumppling.ipynb\" target=\"_parent\"><img src=\"https://colab.research.google.com/assets/colab-badge.svg\" alt=\"Open In Colab\"/></a>"
      ]
    },
    {
      "cell_type": "markdown",
      "metadata": {
        "id": "6pCoB6Zy7C6M"
      },
      "source": [
        "# [*Clumppling*](https://github.com/PopGenClustering/Clumppling)\n",
        "\n",
        "v 1.3 (Last update: Oct, 2025)\n",
        "\n",
        "**How to run *Clumppling* online**\n",
        "*   Make sure to disconnect and delete runtime before running this notebook (Runtime -> Disconnect and delete runtime).\n",
        "*   Follow the instructions and click the run button (the little round button with the white triangle) on the left of each cell one by one.\n",
        "*   You don’t need to view or edit the code, but you can show or hide code cells at any time by clicking \"Show code\" or by double-clicking a cell header.\n"
      ]
    },
    {
      "cell_type": "code",
      "execution_count": null,
      "metadata": {
        "id": "0pKg3xz26wlf",
        "cellView": "form"
      },
      "outputs": [],
      "source": [
        "#@title Installation\n",
        "#@markdown **Note: You may need to restart runtime if prompted. Simply click the button \"RESTART RUNTIME\".**\n",
        "!pip install clumppling"
      ]
    },
    {
      "cell_type": "code",
      "source": [
        "#@title Import Packages\n",
        "import clumppling.__main__ as clumppling_main\n",
        "\n",
        "from google.colab import files\n",
        "import zipfile\n",
        "import os\n",
        "import shutil\n",
        "import builtins\n",
        "import argparse\n",
        "import sys\n",
        "\n",
        "import logging\n",
        "\n",
        "logger = logging.getLogger()  # root logger\n",
        "logger.setLevel(logging.INFO)  # or DEBUG\n",
        "\n",
        "# Check if a StreamHandler is already attached\n",
        "if not any(isinstance(h, logging.StreamHandler) for h in logger.handlers):\n",
        "    handler = logging.StreamHandler(sys.stdout)  # send logs to notebook stdout\n",
        "    formatter = logging.Formatter(\"%(asctime)s [%(levelname)s]  %(message)s\")\n",
        "    handler.setFormatter(formatter)\n",
        "    logger.addHandler(handler)\n",
        "\n",
        "logger.info(\"Logging is now visible in Colab!\")"
      ],
      "metadata": {
        "id": "Cqdy8UI2pKrx",
        "cellView": "form"
      },
      "execution_count": null,
      "outputs": []
    },
    {
      "cell_type": "markdown",
      "metadata": {
        "id": "Cy9EEG69_Slq"
      },
      "source": [
        "## Steps to Run Clumppling\n",
        "---\n",
        "**Upload clustering data (in a zip file)**. The zip folder can contain (and must directly contain, with no subfolder) clustering outputs of one of the following types:\n",
        "\n",
        "1.   *STRUCTURE* output (i.e., the *_f* files)\n",
        "2.   *ADMIXTURE* output (i.e., the *.Q* files, or the *.indivq* files)\n",
        "3.   *fastSTRUCTURE* output (i.e., the *.meanQ* files)\n",
        "4.   *General Q files*: files containing general membership output of any mixed-membership clustering method saved as spaced-delimited matrices in *.Q* files.\n",
        "\n",
        "It is okay for the zip folder to contain extra files (e.g., *.P* files for *ADMIXTURE* output), as long as their file extension does not conflict with those specified.\n",
        "\n",
        "**Specify the input data type** (from ``structure, fastStructure, admixture, generalQ``), **the input file extension** (e.g., ``.Q``; otherwise all files under the input directory will be loaded) **and other optional parameters** (if you would like to change those)\n",
        "\n",
        "**Run the main program**. Progress and time used will be displayed.\n",
        "\n",
        "**Download the results**.\n",
        "\n",
        "**Visualize the results in the notebook**. This step is optional and just for the convenience of the user to see the results live."
      ]
    },
    {
      "cell_type": "code",
      "execution_count": null,
      "metadata": {
        "id": "hQISpOjj7TG4",
        "cellView": "form"
      },
      "outputs": [],
      "source": [
        "#@title Upload files\n",
        "#@markdown Click on the \"Choose Files\" and upload your file(s) all at once:\n",
        "#@markdown \\\n",
        "#@markdown (Required) A zip file containing the input files from population structure analysis (e.g., [*capeverde_admixtureQ.zip*](https://github.com/PopGenClustering/Clumppling/blob/master/examples/capeverde_admixtureQ.zip) which you can download from the GitHub page)\n",
        "#@markdown \\\n",
        "#@markdown (Optional) An individual label file (e.g., [*capeverde_ind_labels.txt*](https://github.com/PopGenClustering/Clumppling/blob/master/examples/capeverde_ind_labels.txt))\n",
        "#@markdown \\\n",
        "#@markdown Both files should be selected and uploaded at the same time. You will see the uploading progress.\n",
        "\n",
        "!rm -rf /content/* # remove previously uploaded files, if any\n",
        "\n",
        "uploaded = files.upload()\n",
        "\n",
        "filenames = list(uploaded.keys())\n",
        "f_input = [f for f in filenames if f.endswith('.zip')]\n",
        "assert len(f_input) == 1, \"Please upload one (and only one) zip file.\"\n",
        "f_input = f_input[0]\n",
        "input = os.path.join(\"/content\", f_input.split('.')[0])\n",
        "with zipfile.ZipFile(f_input, 'r') as z:\n",
        "  z.extractall(input)\n",
        "\n",
        "print(\"Uploaded files (/content): {}\".format(os.listdir(\"/content\")))\n",
        "print(\"Input path: {}\".format(input))"
      ]
    },
    {
      "cell_type": "code",
      "execution_count": null,
      "metadata": {
        "id": "uIEVOzy38azL",
        "cellView": "form"
      },
      "outputs": [],
      "source": [
        "#@title Set input parameters\n",
        "import random\n",
        "random.seed(42)\n",
        "\n",
        "def str2bool(v):\n",
        "    if isinstance(v, bool):\n",
        "        return v\n",
        "    v = v.lower()\n",
        "    if v in ('yes', 'true', 't', 'y', '1'):\n",
        "        return True\n",
        "    elif v in ('no', 'false', 'f', 'n', '0'):\n",
        "        return False\n",
        "    else:\n",
        "        raise ValueError(\"Boolean value expected.\")\n",
        "\n",
        "parser = argparse.ArgumentParser()\n",
        "\n",
        "# required\n",
        "parser.add_argument(\"-i\", \"--input\", type=str, required=True, help=\"Input file path\")\n",
        "parser.add_argument(\"-o\", \"--output\", type=str, required=True, help=\"Output file directory\")\n",
        "parser.add_argument(\"-f\", \"--format\", type=str, required=True, choices=[\"generalQ\", \"admixture\", \"structure\", \"fastStructure\"],\n",
        "                    help=\"File format\")\n",
        "# optional\n",
        "parser.add_argument('-v', '--vis', type=str2bool, default=True, required=False, help='Whether to generate figure(s): True (default)/False')\n",
        "parser.add_argument('--custom_cmap', type=str, default='', required=False, help='A plain text file containing customized colors (one per line; in hex code): if empty (default), using the default colormap, otherwise use the user-specified colormap')\n",
        "parser.add_argument(\"--plot_type\", type=str, default=\"graph\", required=False, choices=[\"graph\", \"list\", \"withinK\", \"major\", \"all\"],\n",
        "                      help=\"Type of plot to generate: 'graph' (default), 'list', 'withinK', 'major', 'all'\")\n",
        "parser.add_argument(\"--include_cost\", type=str2bool, default=True, required=False, help=\"Whether to include cost values in the graph plot: True (default)/False\")\n",
        "parser.add_argument(\"--include_label\", type=str2bool, default=True, required=False, help=\"Whether to include individual labels in the plot: True (default)/False\")\n",
        "parser.add_argument(\"--alt_color\", type=str2bool, default=False, required=False, help=\"Whether to use alternative colors for connection lines: True (default)/False\")\n",
        "parser.add_argument(\"--ind_labels\", type=str, default=\"\", required=False,\n",
        "                    help=\"A plain text file containing individual labels (one per line) (default: last column from labels in input file, which consists of columns [0, 1, 3] separated by delimiter)\")\n",
        "parser.add_argument(\"--regroup_ind\", type=str2bool, default=True, required=False,\n",
        "                    help=\"Whether to regroup individuals so that those with the same labels stay together (if labels are available): True (default)/False\")\n",
        "parser.add_argument(\"--reorder_within_group\", type=str2bool, default=True, required=False,\n",
        "                    help=\"Whether to reorder individuals within each label group in the plot (if labels are available): True (default)/False\")\n",
        "parser.add_argument(\"--reorder_by_max_k\", type=str2bool, default=True, required=False,\n",
        "                    help=\"Whether to reorder individuals based on the major mode with largest K: True (default)/False (based on the major mode with smallest K)\")\n",
        "parser.add_argument(\"--order_cls_by_label\", type=str2bool, default=True, required=False,\n",
        "                    help=\"Whether to reorder clusters based on total memberships within each label group in the plot: True (default)/False (by overall total memberships)\")\n",
        "parser.add_argument(\"--plot_unaligned\", type=str2bool, default=False, required=False, help=\"Whether to plot unaligned modes (in a list): True/False (default)\")\n",
        "parser.add_argument(\"--fig_format\", type=str, default=\"tiff\", required=False, choices=[\"png\", \"jpg\", \"jpeg\", \"tif\", \"tiff\", \"svg\", \"pdf\", \"eps\", \"ps\", \"bmp\", \"gif\"], help=\"Figure format for output files (default: tiff)\")\n",
        "\n",
        "parser.add_argument(\"--extension\", type=str, default=\"\", required=False, help=\"Extension of input files\")\n",
        "parser.add_argument(\"--skip_rows\", type=int, default=0, required=False, help=\"Skip top rows in input files\")\n",
        "parser.add_argument(\"--remove_missing\", type=str2bool, default=True, required=False, help=\"Remove individuals with missing data: True (default)/False\")\n",
        "\n",
        "parser.add_argument(\"--cd_method\", type=str, default=\"louvain\", required=False,\n",
        "                      choices=[\"louvain\", \"leiden\", \"infomap\", \"markov_clustering\", \"label_propagation\", \"walktrap\", \"custom\"],\n",
        "                      help=\"Community detection method to use (default: louvain)\")\n",
        "parser.add_argument(\"--cd_res\", type=float, default=1.0, required=False,\n",
        "                      help=\"Resolution parameter for the default Louvain community detection (default: 1.0)\")\n",
        "parser.add_argument(\"--test_comm\", type=str2bool, default=True, required=False,\n",
        "                      help=\"Whether to test community structure (default: True)\")\n",
        "parser.add_argument(\"--comm_min\", type=float, default=1e-6, required=False,\n",
        "                      help=\"Minimum threshold for cost matrix (default: 1e-6)\")\n",
        "parser.add_argument(\"--comm_max\", type=float, default=1e-2, required=False,\n",
        "                      help=\"Maximum threshold for cost matrix (default: 1e-2)\")\n",
        "parser.add_argument(\"--merge\", type=str2bool, default=True, required=False,\n",
        "                      help=\"Whether to merge two clusters when aligning K+1 to K (default: True)\")\n",
        "parser.add_argument(\"--use_rep\", type=str2bool, default=True, required=False, help=\"Use representative modes (alternative: average): True (default)/False\")\n",
        "parser.add_argument(\"--use_best_pair\", type=str2bool, default=True, required=False, help=\"Use best pair as anchor for across-K alignment (alternative: major): True (default)/False\")\n",
        "\n",
        "#@markdown ### Enter the required argument:\n",
        "#@markdown Choose the format of the input files:\n",
        "format = \"admixture\" #@param [\"generalQ\", \"admixture\", \"structure\", \"fastStructure\"] {type:\"string\"}\n",
        "#@markdown \\\n",
        "#@markdown ### Change optional arguments if needed:\n",
        "#@markdown Leave emtpy if loading all input files, or provide a file extension like ``.Q``, ``_f``, etc.:\n",
        "extension = \"\" #@param {type:\"string\"}\n",
        "#@markdown Set the resolution parameter of the Louvain algorithm for community detection:\n",
        "cd_res = 1.0 #@param {type:\"number\"}\n",
        "#@markdown Choose whether to test for community structure before applying community detection (will force community detection if False):\n",
        "test_comm = True #@param [\"False\", \"True\"] {type:\"raw\"}\n",
        "#@markdown Choose whether to use a representative replicate to be mode consensus:\n",
        "use_rep = False #@param [\"False\", \"True\"] {type:\"raw\"}\n",
        "#@markdown Choose whether to merge all pairs of cluster when aligning K+1 and K (will be ignored if K differs by more than 1):\n",
        "merge = True #@param [\"False\", \"True\"] {type:\"raw\"}\n",
        "#@markdown Choose whether to generate corresponding visualizations:\n",
        "vis = True #@param [\"False\", \"True\"] {type:\"raw\"}\n",
        "plot_type = \"graph\" #@param [\"graph\", \"list\", \"withinK\", \"major\", \"all\"] {type:\"string\"}\n",
        "fig_format = \"png\" #@param [\"png\", \"jpg\", \"jpeg\", \"tif\", \"tiff\", \"svg\", \"pdf\", \"eps\", \"ps\", \"bmp\", \"gif\"] {type:\"string\"}\n",
        "#@markdown Leave emtpy if using the defulat colormap, or provide a custom colormap in the form of ``#D65859,#00AAC1,#01C0F6,#FDF0C4``:\n",
        "custom_cmap = \"\" #@param {type:\"string\"}\n",
        "#@markdown Leave emtpy if not using additional population labels, or provide a file name to individual labels (one label per line), e.g., ``capeverde_ind_labels.txt``:\n",
        "ind_labels = \"capeverde_ind_labels.txt\" #@param {type:\"string\"}\n",
        "\n",
        "if ind_labels != \"\":\n",
        "  ind_labels = os.path.join(\"/content\", ind_labels)\n",
        "  assert os.path.exists(ind_labels), \"The provided individual labels file does not exist.\"\n",
        "\n",
        "# clean up cached output files\n",
        "output = '/content/output'\n",
        "if os.path.exists(output):\n",
        "  shutil.rmtree(output)\n",
        "if os.path.exists(output+\".zip\"):\n",
        "  os.remove(output+\".zip\")\n",
        "\n",
        "args_list = ['--input', input,\n",
        "             '--output', output,\n",
        "             '--format', format,\n",
        "             '--extension',extension,\n",
        "             '--test_comm', '1' if test_comm else '0',\n",
        "             '--cd_res', str(cd_res),\n",
        "             '--use_rep', '1' if use_rep else '0',\n",
        "             '--merge', '1' if merge else '0',\n",
        "             '--vis', '1' if vis else '0',\n",
        "             '--plot_type', plot_type,\n",
        "             '--fig_format', fig_format,\n",
        "             '--custom_cmap',custom_cmap,\n",
        "             '--ind_labels', ind_labels]\n",
        "\n",
        "args = parser.parse_args(args_list)\n"
      ]
    },
    {
      "cell_type": "code",
      "execution_count": null,
      "metadata": {
        "id": "bH9-nOER9S45",
        "cellView": "form"
      },
      "outputs": [],
      "source": [
        "#@title Run program\n",
        "#@markdown You will see the progress output in the console.\n",
        "clumppling_main.main(args)"
      ]
    },
    {
      "cell_type": "code",
      "source": [
        "#@title Download results\n",
        "#@markdown A downloading window will pop up once you run this cell.\n",
        "files.download('/content/output.zip')"
      ],
      "metadata": {
        "id": "u4pkzaOBBElS"
      },
      "execution_count": null,
      "outputs": []
    },
    {
      "cell_type": "code",
      "source": [
        "#@title Display results\n",
        "#@markdown You may see the alignment result figures here (if you choose to generate any visualization).\n",
        "from IPython.display import display\n",
        "from PIL import Image\n",
        "\n",
        "image_folder = '/content/output/visualization'\n",
        "for fn in os.listdir(image_folder):\n",
        "  if fn.endswith(fig_format):\n",
        "    img = Image.open(os.path.join(image_folder, fn))\n",
        "    display(img)"
      ],
      "metadata": {
        "cellView": "form",
        "id": "x6AQVKdeE_Jr"
      },
      "execution_count": null,
      "outputs": []
    },
    {
      "cell_type": "code",
      "source": [
        "#@title Show statistics\n",
        "#@markdown You may see the within-K alignment performance here. More performances can be found in the output files you downloaded.\n",
        "with open('/content/output/modes/mode_average_stats.txt') as f:\n",
        "  for line in f:\n",
        "    print(line.strip().replace(',','\\t'))"
      ],
      "metadata": {
        "cellView": "form",
        "id": "l4UmGecoFfP1"
      },
      "execution_count": null,
      "outputs": []
    }
  ],
  "metadata": {
    "colab": {
      "provenance": [],
      "include_colab_link": true
    },
    "kernelspec": {
      "display_name": "Python 3",
      "name": "python3"
    },
    "language_info": {
      "name": "python"
    }
  },
  "nbformat": 4,
  "nbformat_minor": 0
}